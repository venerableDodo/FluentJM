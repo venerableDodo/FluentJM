{
 "cells": [
  {
   "cell_type": "code",
   "execution_count": 1,
   "metadata": {},
   "outputs": [],
   "source": [
    "from models import models"
   ]
  },
  {
   "cell_type": "markdown",
   "metadata": {},
   "source": [
    "# Load Case and Data"
   ]
  },
  {
   "cell_type": "code",
   "execution_count": 2,
   "metadata": {},
   "outputs": [],
   "source": [
    "CaseName = \"simple.cas.h5\"\n",
    "DataName = None #\"simple.dat.h5\""
   ]
  },
  {
   "cell_type": "markdown",
   "metadata": {},
   "source": [
    "# Activate Models\n",
    "\n",
    "with ON/OFF model just say write \"yes\" or \"no\". With models that needs to have a specific parameter set just write that as in the TUI"
   ]
  },
  {
   "cell_type": "code",
   "execution_count": 3,
   "metadata": {},
   "outputs": [],
   "source": [
    "# Models\n",
    "# Set None if not wanted\n",
    "\n",
    "energy = \"yes\" # \"no\"\n",
    "viscous = \"ke-realizable\" #\"Laminar\" /  \"ke-realizable\"\n",
    "radiation = \"DO\" "
   ]
  },
  {
   "cell_type": "markdown",
   "metadata": {},
   "source": [
    "# Operating Conditions"
   ]
  },
  {
   "cell_type": "code",
   "execution_count": 4,
   "metadata": {},
   "outputs": [],
   "source": [
    "# Operating Conditions\n",
    "\n",
    "operatingPressure = 1e5\n",
    "gravity = None\n",
    "x_gravity = 0\n",
    "y_gravity = -9.81\n",
    "z_gravity = 0"
   ]
  },
  {
   "cell_type": "markdown",
   "metadata": {},
   "source": [
    "# Solution Information"
   ]
  },
  {
   "cell_type": "code",
   "execution_count": 5,
   "metadata": {},
   "outputs": [],
   "source": [
    "# Solution Data\n",
    "\n",
    "numberSolutionSegment = 2\n",
    "numberIteration = [100,2000] # size equal to value of numberSolutionSegment\n",
    "\n",
    "# Schemes \n",
    "schemes = [\"first order\", \"second order\"]\n",
    "radiationIteration = [50 , 10]"
   ]
  },
  {
   "cell_type": "markdown",
   "metadata": {},
   "source": [
    "# Convergence Criteria"
   ]
  },
  {
   "cell_type": "code",
   "execution_count": 6,
   "metadata": {},
   "outputs": [],
   "source": [
    "# Convergence Criteria\n",
    "continuity = 1e-5\n",
    "xVel = 1e-5\n",
    "yVel = 1e-5\n",
    "zVel = 1e-5\n",
    "energyRes = 1e-10\n",
    "kappa = 1e-5\n",
    "epsilon = 1e-5\n",
    "radiationRes = 1e-10"
   ]
  },
  {
   "cell_type": "code",
   "execution_count": 7,
   "metadata": {},
   "outputs": [],
   "source": [
    "with open('journal.jou', 'w') as file:\n",
    "    # CheckPoint Name\n",
    "    file.write(\"(set! checkpoint/check-filename './AC3D.txt')\\n\")\n",
    "    \n",
    "    # Read Case\n",
    "    file.write(f\"; ------------------- READ CASE -------------------\\nread-case {CaseName}\\n\")\n",
    "    \n",
    "    # Read Data\n",
    "    if DataName != None:\n",
    "        file.write(f\"; ------------------- READ DATA -------------------\\nread-data {DataName}\\n\")\n",
    "        \n",
    "    # Models\n",
    "    file.write(f\"; ------------------- ACTIVATE MODELS -------------------\\n\")\n",
    "    file.write(models[\"Viscous\"][viscous])\n",
    "    if energy == \"yes\":\n",
    "        file.write(models[\"Energy\"])\n",
    "    if radiation != None:\n",
    "        file.write(models[\"Radiation\"][radiation])\n",
    "    \n",
    "    # Convergence Criteria\n",
    "    file.write(f\"; ------------------- RESIDUALS -------------------\\n\")\n",
    "    file.write(\"/solve/monitors/residual convergence-criteria\\n\")\n",
    "    file.write(f\"{continuity}\\n{xVel}\\n{yVel}\\n{zVel}\\n\")\n",
    "    if viscous != \"Laminar\":\n",
    "        file.write(f\"{kappa}\\n{epsilon}\\n\")\n",
    "    if energy != None:\n",
    "        file.write(f\"{energyRes}\\n\")\n",
    "    if radiation != None:\n",
    "        file.write(f\"{radiationRes}\\n\")\n",
    "        \n",
    "    # Operating Conditions\n",
    "    file.write(f\"; ------------------- Operating Conditions -------------------\\n\")\n",
    "    file.write(f\"/define/operating-conditions operating-pressure\\n{operatingPressure}\\n\")\n",
    "    if gravity == \"yes\":\n",
    "        file.write(f\"/define/operating-conditions gravity\\nyes\\n\")\n",
    "        file.write(f\"{x_gravity}\\n{y_gravity}\\n{z_gravity}\\n\")\n",
    "        \n",
    "    # Schemes\n",
    "    # Initializa as SIMPLE without pseudo-timestep \n",
    "    file.write(f\";------------------- Schemes -------------------\\n/solve/set/discretization-scheme pressure\\n14\\n\")\n",
    "    file.write(f\"/solve/set gradient-schem\\nno\\nno\\n\")\n",
    "    file.write(f\"/solve/set p-v-coupling\\n20\\n\")\n",
    "    file.write(f\"/solve/set/pseudo-time-method formulation\\n0\\n\")\n",
    "    \n",
    "    file.write(\";------------------- INITIALIZE -------------------\\n\")\n",
    "    file.write(\"/solve/initialize initialize-flow\\n\")\n",
    "    file.write(\";------------------- SOLUTION -------------------\\n\")\n",
    "    \n",
    "    for i in range(numberSolutionSegment):\n",
    "        file.write(f\";------------------- {i+1} ITERATION ROUND -------------------\\n\")\n",
    "        if schemes[i] == \"first order\":\n",
    "            order = 0\n",
    "        else:\n",
    "            order = 1\n",
    "        # momentum\n",
    "        file.write(f\"/solve/set/discretization-scheme mom\\n{order}\\n\")\n",
    "        # check for turbulence\n",
    "        if viscous == \"ke-realizable\":\n",
    "            file.write(f\"solve/set/discretization-scheme k\\n{order}\\n/solve/set/discretization-scheme epsilon\\n{order}\\n\")\n",
    "        if energy != None:\n",
    "            file.write(f\"solve/set/discretization-scheme temperature\\n{order}\\n\")\n",
    "        if radiation != None:\n",
    "            file.write(f\"solve/set/discretization-scheme disco\\n{order}\\n\")\n",
    "            file.write(f\"/define/models/radiation radiation-model-parameters\\n{radiationIteration[i]}\\n\")\n",
    "            \n",
    "        file.write(f\"it {numberIteration[i]}\\n\")\n",
    "        file.write(\"yes\\n\")\n",
    "\n",
    "\n",
    "    file.write(\";------------------- SAVING -------------------\\n\")\n",
    "    file.write(\"write-data converged.dat.gz\\n\")\n",
    "    file.write(\"write-case converged.cas.gz\\n\")\n",
    "    \n",
    "    file.write(\";------------------- CLOSING FLUENT -------------------\\n\")\n",
    "    file.write(\"exit\\nyes\")\n"
   ]
  },
  {
   "cell_type": "code",
   "execution_count": null,
   "metadata": {},
   "outputs": [],
   "source": []
  }
 ],
 "metadata": {
  "kernelspec": {
   "display_name": "Python 3",
   "language": "python",
   "name": "python3"
  },
  "language_info": {
   "codemirror_mode": {
    "name": "ipython",
    "version": 3
   },
   "file_extension": ".py",
   "mimetype": "text/x-python",
   "name": "python",
   "nbconvert_exporter": "python",
   "pygments_lexer": "ipython3",
   "version": "3.12.0"
  }
 },
 "nbformat": 4,
 "nbformat_minor": 2
}
